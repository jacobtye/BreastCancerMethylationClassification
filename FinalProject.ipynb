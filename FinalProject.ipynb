{
  "nbformat": 4,
  "nbformat_minor": 0,
  "metadata": {
    "colab": {
      "name": "FinalProject.ipynb",
      "provenance": [],
      "collapsed_sections": [],
      "authorship_tag": "ABX9TyNFLs3HPmvLS0+d6I+BOD18",
      "include_colab_link": true
    },
    "kernelspec": {
      "name": "python3",
      "display_name": "Python 3"
    },
    "language_info": {
      "name": "python"
    },
    "accelerator": "GPU"
  },
  "cells": [
    {
      "cell_type": "markdown",
      "metadata": {
        "id": "view-in-github",
        "colab_type": "text"
      },
      "source": [
        "<a href=\"https://colab.research.google.com/github/jacobtye/BreastCancerMethylationClassification/blob/main/FinalProject.ipynb\" target=\"_parent\"><img src=\"https://colab.research.google.com/assets/colab-badge.svg\" alt=\"Open In Colab\"/></a>"
      ]
    },
    {
      "cell_type": "code",
      "metadata": {
        "id": "Mc6AZ9780_EC"
      },
      "source": [
        "from torchvision.models import vgg13_bn  as model\n",
        "from torchvision import transforms, datasets\n",
        "from torch.utils.data import DataLoader, Dataset\n",
        "import torch\n",
        "import numpy as np\n",
        "from torch import optim, nn\n",
        "import zipfile\n",
        "import pandas as pd\n",
        "from google.colab import files\n",
        "import os\n",
        "import sys\n",
        "from PIL import Image, ImageOps\n",
        "from tqdm import tqdm\n",
        "import numpy as np\n",
        "from matplotlib import pyplot as plt\n",
        "from enum import Enum\n",
        "from os import listdir\n",
        "from os.path import isfile, join\n",
        "from torch.utils.data.sampler import SubsetRandomSampler\n",
        "from statistics import mean "
      ],
      "execution_count": 1,
      "outputs": []
    },
    {
      "cell_type": "code",
      "metadata": {
        "colab": {
          "base_uri": "https://localhost:8080/"
        },
        "id": "htMBse2bAs0A",
        "outputId": "30788fea-3fa4-495d-f36b-9e35403e0571"
      },
      "source": [
        "print(model().classifier[6])"
      ],
      "execution_count": 2,
      "outputs": [
        {
          "output_type": "stream",
          "text": [
            "Linear(in_features=4096, out_features=1000, bias=True)\n"
          ],
          "name": "stdout"
        }
      ]
    },
    {
      "cell_type": "code",
      "metadata": {
        "colab": {
          "base_uri": "https://localhost:8080/"
        },
        "id": "Fio69qeCsgOx",
        "outputId": "d643158b-82ca-48de-9274-ae4ce8f99cf8"
      },
      "source": [
        "!gdown --id 1dqLNiGzpFy3GlVaD1KyrAujlJ8P2zIQ0\n",
        "!gdown --id 1G98ZuCssjQ0L8McGTs5OgQhZdWkoWTRK\n",
        "!gdown --id 1oFlaPG3W19BA8eZm8k8u2rqPjisnIrfa"
      ],
      "execution_count": 3,
      "outputs": [
        {
          "output_type": "stream",
          "text": [
            "Downloading...\n",
            "From: https://drive.google.com/uc?id=1dqLNiGzpFy3GlVaD1KyrAujlJ8P2zIQ0\n",
            "To: /content/data.zip\n",
            "449MB [00:02, 182MB/s]\n",
            "Downloading...\n",
            "From: https://drive.google.com/uc?id=1G98ZuCssjQ0L8McGTs5OgQhZdWkoWTRK\n",
            "To: /content/confirm.zip\n",
            "10.5MB [00:00, 64.3MB/s]\n",
            "Downloading...\n",
            "From: https://drive.google.com/uc?id=1oFlaPG3W19BA8eZm8k8u2rqPjisnIrfa\n",
            "To: /content/data_with_duplicates.zip\n",
            "665MB [00:04, 165MB/s]\n"
          ],
          "name": "stdout"
        }
      ]
    },
    {
      "cell_type": "code",
      "metadata": {
        "id": "KuCHipZQ1SJ1",
        "colab": {
          "base_uri": "https://localhost:8080/"
        },
        "outputId": "61666854-6221-4dec-cd60-0be743f67fb0"
      },
      "source": [
        "# class Category(Enum):\n",
        "CANCER = 0\n",
        "HEALTHY = 1\n",
        "class CancerDataset(Dataset):\n",
        "    def __init__(self, file='data', train=True, upload=False):\n",
        "        super(CancerDataset, self).__init__()\n",
        "        if file == 'data':\n",
        "          self.col = 4\n",
        "        else:\n",
        "          self.col = 4\n",
        "        zip_file = file + '.zip'\n",
        "        self.train = train\n",
        "        extract_dir = os.path.splitext(zip_file)[0]\n",
        "        if not os.path.exists(extract_dir):\n",
        "            os.makedirs(extract_dir)\n",
        "            self.extract_zip(zip_file, extract_dir)\n",
        "\n",
        "        self.dir = os.path.join(extract_dir, file, 'patients')\n",
        "        healthy = [f for f in listdir(os.path.join(self.dir, 'healthy'))]\n",
        "        cancer = [f for f in listdir(os.path.join(self.dir, 'cancer'))]\n",
        "        self.dataset = [(f, CANCER) for f in cancer]\n",
        "        self.dataset += [(f, HEALTHY) for f in healthy]\n",
        "\n",
        "\n",
        "    def extract_zip(self, zip_file, extract_dir):\n",
        "        print(\"Extracting\", zip_file)\n",
        "        with zipfile.ZipFile(zip_file, 'r') as zip_ref:\n",
        "            zip_ref.extractall(extract_dir)\n",
        "\n",
        "    def prepare_item(self, item):\n",
        "      try:\n",
        "        prefix = 'cancer' if item[1] == 0 else 'healthy'\n",
        "        paitent_data_frame = pd.read_csv(os.path.join(self.dir, prefix, item[0]),  sep='\\t')\n",
        "        # print(paitent_data_frame)\n",
        "        # paitent_data_frame = data\n",
        "        n = 0\n",
        "       \n",
        "        methylation = paitent_data_frame.iloc[:, paitent_data_frame.columns.get_loc(\"Value\")].values\n",
        "        D1Tensor = torch.Tensor(methylation)\n",
        "        D2Tensor = D1Tensor.view(67,337)\n",
        "        return D2Tensor, item[1]\n",
        "      except:\n",
        "        # print(item[0])\n",
        "        # print(paitent_data_frame)\n",
        "        # print(methylation)\n",
        "        print(list(paitent_data_frame.columns))\n",
        "        raise Exception(\"bad file\")\n",
        "\n",
        "    def __getitem__(self,index):\n",
        "        return self.prepare_item(self.dataset[index])\n",
        "\n",
        "    def __len__(self):\n",
        "        return len(self.dataset)\n",
        "\n",
        "# cancer_data = CancerDataset('data_with_duplicates/data')\n",
        "cancer_data = CancerDataset('data')\n",
        "confirm_data = CancerDataset('confirm')"
      ],
      "execution_count": 4,
      "outputs": [
        {
          "output_type": "stream",
          "text": [
            "Extracting data.zip\n",
            "Extracting confirm.zip\n"
          ],
          "name": "stdout"
        }
      ]
    },
    {
      "cell_type": "code",
      "metadata": {
        "colab": {
          "base_uri": "https://localhost:8080/"
        },
        "id": "QGmefKchJPxR",
        "outputId": "25fe6522-633e-471e-d648-968c883b35af"
      },
      "source": [
        "print(len(cancer_data))\n",
        "# print(len(cancer_data))\n",
        "# print(confirm_data.dir)\n",
        "# for item in confirm_data:\n",
        "#   continue"
      ],
      "execution_count": 5,
      "outputs": [
        {
          "output_type": "stream",
          "text": [
            "604\n"
          ],
          "name": "stdout"
        }
      ]
    },
    {
      "cell_type": "code",
      "metadata": {
        "id": "_d8Vu3vvvhT0"
      },
      "source": [
        "batch_size = 16\n",
        "validation_split = .3\n",
        "seed= 42\n",
        "indexes = list(range(len(cancer_data)))\n",
        "split = int(np.floor(validation_split * len(cancer_data)))\n",
        "\n",
        "np.random.seed(seed)\n",
        "np.random.shuffle(indexes)\n",
        "\n",
        "train_indexes, val_indexes = indexes[split:], indexes[:split]\n",
        "train_sampler = SubsetRandomSampler(train_indexes)\n",
        "val_sampler = SubsetRandomSampler(val_indexes)\n",
        "\n",
        "train_loader = DataLoader(cancer_data, batch_size=batch_size, \n",
        "                                           sampler=train_sampler)\n",
        "validation_loader = DataLoader(cancer_data, batch_size=batch_size,\n",
        "                                                sampler=val_sampler)"
      ],
      "execution_count": 6,
      "outputs": []
    },
    {
      "cell_type": "code",
      "metadata": {
        "id": "SjBCGCJ-uvIP"
      },
      "source": [
        "class NetworkStats():\n",
        "  def __init__(self, t_pos, t_neg, f_pos, f_neg):\n",
        "    self.num_positives = t_pos + f_neg\n",
        "    self.num_negatives = t_neg + f_pos\n",
        "    self.true_positives = t_pos\n",
        "    self.true_negatives = t_neg\n",
        "    self.false_positives = f_pos\n",
        "    self.false_negatives = f_neg\n",
        "\n",
        "  def get_sensitivity(self):\n",
        "    if self.num_positives == 0:\n",
        "      return -1\n",
        "    return self.true_positives / (self.num_positives)\n",
        "\n",
        "  def get_specificity(self):\n",
        "    if self.num_negatives == 0:\n",
        "      return -1\n",
        "    return self.true_negatives/self.num_negatives"
      ],
      "execution_count": 7,
      "outputs": []
    },
    {
      "cell_type": "code",
      "metadata": {
        "id": "5BWjDugjw4M7"
      },
      "source": [
        "#Design Neural Network\n",
        "class MethylationNetwork(nn.Module):\n",
        "    def __init__(self):\n",
        "        super(MethylationNetwork, self).__init__()\n",
        "        out = 3\n",
        "        size = (5,5)\n",
        "        padding=2\n",
        "        stride = 1\n",
        "        self.layer1 = nn.ConvTranspose2d(1, out, kernel_size=size, padding=padding, stride=stride)\n",
        "        self.model = model()\n",
        "        self.numParams = 0\n",
        "        # self.model.fc = nn.Linear(2048, 2).requires_grad_()\n",
        "        self.model.classifier[6] = nn.Linear(4096, 2).requires_grad_()\n",
        "        for param in self.model.parameters():\n",
        "              param.requires_grad = True\n",
        "\n",
        "\n",
        "\n",
        "    def forward(self, x):\n",
        "        return self.model(self.layer1(x.unsqueeze(1)))"
      ],
      "execution_count": 8,
      "outputs": []
    },
    {
      "cell_type": "code",
      "metadata": {
        "id": "4xvdKdX-DnSb"
      },
      "source": [
        "def split_accuracy(y_hat, y_truth):\n",
        "    preds = torch.argmax(y_hat, dim=1)\n",
        "    true_positive = 0\n",
        "    false_positive = 0\n",
        "    true_negative = 0\n",
        "    false_negative = 0\n",
        "    for i in range(len(y_truth)):\n",
        "      if y_truth[i].item() == CANCER:\n",
        "        if preds[i].item() == CANCER: #true positive\n",
        "          true_positive = true_positive + 1\n",
        "        else:\n",
        "          false_negative = false_negative + 1\n",
        "      elif y_truth[i].item() == HEALTHY:\n",
        "        if preds[i].item() == HEALTHY:\n",
        "          true_negative = true_negative + 1\n",
        "        else:\n",
        "          false_positive = false_positive + 1\n",
        "    stats = NetworkStats(true_positive, true_negative, false_positive, false_negative)\n",
        "\n",
        "    return stats"
      ],
      "execution_count": 9,
      "outputs": []
    },
    {
      "cell_type": "code",
      "metadata": {
        "id": "LZP5-KgyHdXf"
      },
      "source": [
        "def accuracy(y_hat, y_truth):\n",
        "    preds = torch.argmax(y_hat, dim=1)\n",
        "    acc = torch.mean((preds == y_truth).float())\n",
        "    return acc\n"
      ],
      "execution_count": 10,
      "outputs": []
    },
    {
      "cell_type": "code",
      "metadata": {
        "id": "_9lbNDKI-jmJ"
      },
      "source": [
        "def evaluate(model, objective, val_loader):\n",
        "\n",
        "    val_losses = []\n",
        "    val_accs = []\n",
        "    sensitivities = []\n",
        "    specificities = []\n",
        "    fdrs = []\n",
        "\n",
        "    model.eval()\n",
        "    with torch.no_grad():\n",
        "        for x, y_truth in val_loader:\n",
        "\n",
        "            x, y_truth = x.cuda(non_blocking=True), y_truth.cuda(non_blocking=True)\n",
        "            y_hat = model(x)\n",
        "            stats = split_accuracy(y_hat, y_truth)\n",
        "            sens = stats.get_sensitivity()\n",
        "            if sens >=0:\n",
        "              sensitivities.append(sens)\n",
        "            specf = stats.get_specificity()\n",
        "            if specf >= 0:\n",
        "              specificities.append(specf)\n",
        "              fdrs.append(1 - specf)\n",
        "\n",
        "            val_loss = objective(y_hat, y_truth)\n",
        "            val_acc = accuracy(y_hat, y_truth)\n",
        "\n",
        "            val_losses.append(val_loss.item())\n",
        "            val_accs.append(val_acc)\n",
        "\n",
        "    model.train()\n",
        "    if (len(sensitivities) < 1):\n",
        "      sensitivities.append(-1)\n",
        "    if (len(specificities) < 1):\n",
        "      specificities.append(-1)\n",
        "      fdrs.append(-1)\n",
        "\n",
        "    return torch.mean(torch.Tensor(val_losses)), torch.mean(torch.Tensor(val_accs)), mean(sensitivities), mean(specificities), mean(fdrs)"
      ],
      "execution_count": 11,
      "outputs": []
    },
    {
      "cell_type": "code",
      "metadata": {
        "id": "QEFCrZmw0U72"
      },
      "source": [
        "def rocCurve(model, objective, val_loader):\n",
        "    from sklearn.metrics import roc_curve, auc\n",
        "\n",
        "    val_losses = []\n",
        "    val_accs = []\n",
        "    sensitivities = []\n",
        "    specificities = []\n",
        "    fdrs = []\n",
        "    fpr = None\n",
        "    tpr = None\n",
        "    roc_auc = None\n",
        "    model.eval()\n",
        "    with torch.no_grad():\n",
        "        for x, y_truth in val_loader:\n",
        "            \n",
        "\n",
        "            x, y_truth = x.cuda(non_blocking=True), y_truth.cuda(non_blocking=True)\n",
        "            y_hat = model(x)\n",
        "            fpr, tpr, _ = roc_curve(y_truth.cpu().numpy(), y_hat.cpu().numpy()[:, CANCER], pos_label=CANCER)\n",
        "            roc_auc = auc(fpr, tpr)\n",
        "            \n",
        "    \n",
        "    model.train()\n",
        "    plt.figure()\n",
        "    lw = 2\n",
        "    plt.plot(fpr, tpr, color='darkorange',\n",
        "            lw=lw, label='ROC curve (area = %0.2f)' % roc_auc)\n",
        "    plt.plot([0, 1], [0, 1], color='navy', lw=lw, linestyle='--')\n",
        "    plt.xlim([0.0, 1.0])\n",
        "    plt.ylim([0.0, 1.05])\n",
        "    plt.xlabel('False Positive Rate')\n",
        "    plt.ylabel('True Positive Rate')\n",
        "    plt.title('Receiver operating characteristic cancer')\n",
        "    plt.legend(loc=\"lower right\")\n",
        "    plt.show()\n",
        "\n",
        "    return fpr, tpr, roc_auc"
      ],
      "execution_count": 12,
      "outputs": []
    },
    {
      "cell_type": "code",
      "metadata": {
        "id": "nC2MMOOMw9Cb"
      },
      "source": [
        "def train():\n",
        "    epochs = 20\n",
        "    lr = .0001\n",
        "    batch_size = 16\n",
        "    validation_split = .2\n",
        "    seed= 42\n",
        "    indexes = list(range(len(cancer_data)))\n",
        "    split = int(np.floor(validation_split * len(cancer_data)))\n",
        "\n",
        "    np.random.seed(seed)\n",
        "    np.random.shuffle(indexes)\n",
        "\n",
        "    train_indexes, val_indexes = indexes[split:], indexes[:split]\n",
        "    train_sampler = SubsetRandomSampler(train_indexes)\n",
        "    val_sampler = SubsetRandomSampler(val_indexes)\n",
        "\n",
        "    train_loader = DataLoader(cancer_data, batch_size=batch_size, \n",
        "                                              sampler=train_sampler)\n",
        "    val_loader = DataLoader(cancer_data, batch_size=batch_size,\n",
        "                                                    sampler=val_sampler)\n",
        "    \n",
        "    eval_loader = DataLoader(confirm_data, batch_size=len(confirm_data) )\n",
        "      \n",
        "    objective = nn.CrossEntropyLoss()\n",
        "    optimizer = optim.Adam(model.parameters(), lr=lr, weight_decay=1e-2)\n",
        "\n",
        "    loop = tqdm(total=len(train_loader) * epochs)\n",
        "\n",
        "\n",
        "    \n",
        "    for epoch in range(epochs):\n",
        "        \n",
        "        for i, (x, y_truth) in enumerate(train_loader):\n",
        "        \n",
        "            x, y_truth = x.cuda(non_blocking=True), y_truth.cuda(non_blocking=True)\n",
        "            \n",
        "            optimizer.zero_grad()\n",
        "\n",
        "            y_hat = model(x)\n",
        "            train_loss = objective(y_hat, y_truth)\n",
        "            train_acc = accuracy(y_hat, y_truth)\n",
        "            train_loss.backward()\n",
        "            optimizer.step()\n",
        "\n",
        "            train_accs.append(train_acc)\n",
        "            train_losses.append(train_loss.item())\n",
        "\n",
        "            if (i+1) % val_every == 0:\n",
        "                val_loss, val_acc, sensitivity, specifiity, fdr = evaluate(model, objective, val_loader)\n",
        "                val_losses.append((len(train_losses), val_loss))\n",
        "                val_accs.append((len(train_accs), val_acc))\n",
        "                if specifiity != -1:\n",
        "                  specifiities.append((len(train_accs), specifiity))\n",
        "                if sensitivity != -1:\n",
        "                  sensitivities.append((len(train_accs), sensitivity))\n",
        "                  fdrs.append((len(train_accs), fdr))\n",
        "                loop.set_description('val loss:{:.4f}, val accuracy:{:.4f}, specifiity:{:.4f}, sensitivity:{:.4f}. fdr:{:.4f}.'.format(val_loss.item(), val_acc, specifiity, sensitivity, fdr ))\n",
        "\n",
        "            loop.set_description('train loss:{:.4f}, train accuracy:{:.4f}.'.format(train_loss.item(), train_acc))\n",
        "            loop.update(1)\n",
        "\n",
        "    \n",
        "    loop.close()\n",
        "    rocCurve(model, objective, eval_loader)\n"
      ],
      "execution_count": 13,
      "outputs": []
    },
    {
      "cell_type": "code",
      "metadata": {
        "id": "BPnZTozlCgpO"
      },
      "source": [
        "model = MethylationNetwork().cuda()"
      ],
      "execution_count": 14,
      "outputs": []
    },
    {
      "cell_type": "code",
      "metadata": {
        "id": "ooOFX5qlw_XL",
        "colab": {
          "base_uri": "https://localhost:8080/",
          "height": 312
        },
        "outputId": "0403f7d6-ed8f-4c99-af1c-9b9cd523aceb"
      },
      "source": [
        "val_every = 5\n",
        "train_losses = []\n",
        "train_accs = []\n",
        "val_losses = []\n",
        "val_accs = []\n",
        "sensitivities = []\n",
        "specifiities = []\n",
        "fdrs = []\n",
        "train()"
      ],
      "execution_count": 15,
      "outputs": [
        {
          "output_type": "stream",
          "text": [
            "train loss:0.0001, train accuracy:1.0000.: 100%|██████████| 620/620 [12:13<00:00,  1.18s/it]\n"
          ],
          "name": "stderr"
        },
        {
          "output_type": "display_data",
          "data": {
            "image/png": "[encoded data removed]",
            "text/plain": [
              "<Figure size 432x288 with 1 Axes>"
            ]
          },
          "metadata": {
            "tags": [],
            "needs_background": "light"
          }
        }
      ]
    },
    {
      "cell_type": "code",
      "metadata": {
        "colab": {
          "base_uri": "https://localhost:8080/",
          "height": 1000
        },
        "id": "yDXyQuB0-nCF",
        "outputId": "cc105873-db51-4be4-efdd-b0abcc070842"
      },
      "source": [
        "# plt.subplot(121)\n",
        "plt.plot(np.arange(len(train_accs)), train_accs, label='Train Accuracy')\n",
        "plt.legend()\n",
        "plt.show() \n",
        "x, val = zip(*val_accs)\n",
        "plt.plot(x, val, label='Val Accuracy') \n",
        "plt.legend()\n",
        "plt.show() \n",
        "# x, val = zip(*sensitivities)\n",
        "# plt.plot(x, val, label='Sensitivity')  \n",
        "# plt.legend()\n",
        "# plt.show() \n",
        "# x, val = zip(*specifiities)\n",
        "# plt.plot(x, val, label='Specificity') \n",
        "# plt.legend()\n",
        "# plt.show()   \n",
        "x, val_loss = zip(*fdrs)\n",
        "plt.plot(x, val_loss, label='FDR')\n",
        "plt.legend()\n",
        "plt.show() \n",
        "# plt.subplot(122)\n",
        "plt.plot(np.arange(len(train_losses)), train_losses, label='Train Loss')\n",
        "plt.legend()\n",
        "plt.show() \n",
        "x, val_loss = zip(*val_losses)\n",
        "plt.plot(x, val_loss, label='Val Loss')\n",
        "plt.legend()\n",
        "plt.show()  \n"
      ],
      "execution_count": 17,
      "outputs": [
        {
          "output_type": "display_data",
          "data": {
            "image/png": "[encoded data removed]",
            "text/plain": [
              "<Figure size 432x288 with 1 Axes>"
            ]
          },
          "metadata": {
            "tags": [],
            "needs_background": "light"
          }
        },
        {
          "output_type": "display_data",
          "data": {
            "image/png": "[encoded data removed]",
            "text/plain": [
              "<Figure size 432x288 with 1 Axes>"
            ]
          },
          "metadata": {
            "tags": [],
            "needs_background": "light"
          }
        },
        {
          "output_type": "display_data",
          "data": {
            "image/png": "[encoded data removed]",
            "text/plain": [
              "<Figure size 432x288 with 1 Axes>"
            ]
          },
          "metadata": {
            "tags": [],
            "needs_background": "light"
          }
        },
        {
          "output_type": "display_data",
          "data": {
            "image/png": "[encoded data removed]",
            "text/plain": [
              "<Figure size 432x288 with 1 Axes>"
            ]
          },
          "metadata": {
            "tags": [],
            "needs_background": "light"
          }
        },
        {
          "output_type": "display_data",
          "data": {
            "image/png": "[encoded data removed]",
            "text/plain": [
              "<Figure size 432x288 with 1 Axes>"
            ]
          },
          "metadata": {
            "tags": [],
            "needs_background": "light"
          }
        }
      ]
    },
    {
      "cell_type": "code",
      "metadata": {
        "id": "FafdtrP1xBDO"
      },
      "source": [
        ""
      ],
      "execution_count": null,
      "outputs": []
    }
  ]
}